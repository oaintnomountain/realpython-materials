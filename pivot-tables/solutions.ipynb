{
 "cells": [
  {
   "cell_type": "markdown",
   "id": "ce5ec919-7c70-4a8b-820d-6ce08abe531a",
   "metadata": {},
   "source": [
    "Run these cells first to install the libraries necessary to complete the tutorial."
   ]
  },
  {
   "cell_type": "code",
   "execution_count": null,
   "id": "989e388c-5671-40ab-a0e0-4c7d9b61d664",
   "metadata": {},
   "outputs": [],
   "source": [
    "! pip install pandas\n",
    "! pip install pyarrow"
   ]
  },
  {
   "cell_type": "markdown",
   "id": "fdc3105d-3d74-48ac-80cd-4c3c5c45e1d6",
   "metadata": {},
   "source": [
    "Run this code to immort your dataset from `sales_data.csv`. "
   ]
  },
  {
   "cell_type": "code",
   "execution_count": null,
   "id": "33af4200-e4e9-4914-8daf-510a2f01581a",
   "metadata": {},
   "outputs": [],
   "source": [
    "import pandas as pd\n",
    "\n",
    "sales_data = (pd.read_csv(filepath_or_buffer=\"sales_data.csv\",\n",
    "                         parse_dates=[\"order_date\"], dayfirst=True\n",
    "                         )\n",
    "              .convert_dtypes(dtype_backend=\"pyarrow\")\n",
    "             )\n",
    "\n",
    "sales_data.head()"
   ]
  },
  {
   "cell_type": "markdown",
   "id": "4ff4f07e-afde-4fd3-9eff-ee106d3b8995",
   "metadata": {},
   "source": [
    "**Possible Solution: Planning and Creating a Pivot Table**"
   ]
  },
  {
   "cell_type": "code",
   "execution_count": null,
   "id": "7e19d581-3c9c-42d4-a704-4563b318c6df",
   "metadata": {},
   "outputs": [],
   "source": [
    "pd.options.display.float_format = \"${:_.2f}\".format\n",
    "\n",
    "sales_data.pivot_table(\n",
    "    values=\"sale_price\", index=\"product_category\",\n",
    "    columns=\"sales_region\", aggfunc=\"max\"\n",
    ")"
   ]
  },
  {
   "cell_type": "markdown",
   "id": "c9a9df7d-5d01-49af-a15c-d29169072ffb",
   "metadata": {},
   "source": [
    "As you learned earlier, the first step is to plan out what you want to see. The specification asks you to work out maximum values so setting `aggfunc=\"max\"` will be necessary. To separate out the different sales regions into their own columns, you assign `\"sales_region\"` to your `columns` parameter. \n",
    "\n",
    "To separate out each of the different sales regions into their own columns, you set `index` to `\"product_category\"`. To make sure the calculations are based on sales prices, you assign `\"sale_price\"` to the `values` parameter. To format the data you use a similar format string as before only replace the `£` with a `$` and the comma-separator (`,`) with an underscore `(_)`."
   ]
  },
  {
   "cell_type": "markdown",
   "id": "a8a86f2d-0b09-4aff-90e1-6bc5254e3d09",
   "metadata": {},
   "source": [
    "**Possible Solution: Using Sub-Columns**"
   ]
  },
  {
   "cell_type": "code",
   "execution_count": null,
   "id": "be518313-1e98-45cc-99a3-ef99186f6a82",
   "metadata": {},
   "outputs": [],
   "source": [
    "sales_data.pivot_table(\n",
    "    values=\"quantity\", index=\"customer_state\",\n",
    "    columns=[\"customer_type\", \"product_category\"],\n",
    "    aggfunc=\"max\",\n",
    "    fill_value=0,\n",
    "    margins=True, margins_name=\"Total Quantity:\"\n",
    ")"
   ]
  },
  {
   "cell_type": "markdown",
   "id": "6b60d32b-465b-4c36-817a-f26d804238b3",
   "metadata": {},
   "source": [
    "In this solution, you have been asked to create a separate row for each `\"customer_state\"`, so you assign this to `index`. To create an analysis of `\"customer_type\"`, subdivided by `\"product_category\"`, you pass these as a list to `columns`. The main data you are basing your calculations is `\"quantity\"`, which becomes the `values` parameter, however, you must use the `\"max\"` function because you want the highest quantities to be shown. This is assigned to `aggfunc`. \n",
    "\n",
    "When you apply this plan to the various parameters, you get the code shown above. To solve the additional challenge, you assign `0` to the `fill_value` parameter. This replaces the `<NA>` values with `0`. You don't need to worry about rounding because here you are dealing with integers."
   ]
  },
  {
   "cell_type": "markdown",
   "id": "15824a0c-5e63-4f15-bbb4-ac73dab97394",
   "metadata": {},
   "source": [
    "**Possible Solution: Using Sub-Rows**"
   ]
  },
  {
   "cell_type": "code",
   "execution_count": null,
   "id": "4a92c58d-40e3-4d72-9615-05ba96f7649e",
   "metadata": {},
   "outputs": [],
   "source": [
    "sales_data.pivot_table(\n",
    "    values=\"quantity\", index=[\"order_type\", \"customer_state\"],\n",
    "    columns=[\"customer_type\", \"product_category\"],\n",
    "    aggfunc=\"sum\", fill_value=0\n",
    ")"
   ]
  },
  {
   "cell_type": "markdown",
   "id": "c11be931-897c-4679-9667-f9dc56535e49",
   "metadata": {},
   "source": [
    "In this solution, you have decided to create a separate row to analyze `\"order_type\"` by `\"customer_state\"`, so these are passed as a list into `index` in the order shown. To also analyze `\"customer_type\"` by `\"product_category\"`, these too are passed in as a list, but to the `columns` parameter. The main data you are basing your calculations on is `\"quantity\"`, so this becomes your `values` parameter, while `aggfunc=\"sum\"` ensures you see total quantities. \n",
    "\n",
    "When you apply this plan to the various parameters, you get the code shown above. To finish off, you once more assign `0` to the `fill_value` parameter to replace the `<NA>` values with `0`. You don't need to worry about formatting because you are dealing with integers."
   ]
  },
  {
   "cell_type": "markdown",
   "id": "c9a0c260-d5bf-462b-b7e3-b5a5e3dbcaa3",
   "metadata": {},
   "source": [
    "**Possible Solution: Calculating Multiple Values**"
   ]
  },
  {
   "cell_type": "code",
   "execution_count": null,
   "id": "32969680-7afb-4da7-a62a-453ade77a34a",
   "metadata": {},
   "outputs": [],
   "source": [
    "sales_data.pivot_table(\n",
    "    values=[\"sale_price\", \"quantity\"],\n",
    "    index=[\"customer_type\", \"order_type\"],\n",
    "    columns=\"product_category\", aggfunc=\"sum\"\n",
    ")"
   ]
  },
  {
   "cell_type": "markdown",
   "id": "72a83264-e3d1-4f6f-b69e-73a2ba986a08",
   "metadata": {},
   "source": [
    "This time, you were asked to create a separate row analyzing `\"order_type\"` within `\"customer_type\"`, so these are passed as a list into `index` in the order shown. You also need the analysis to be by `\"product_category\"`, so you pass this as the `columns` parameter. The main data you are basing your calculations on is `\"quantity\"` and `\"sale_price\"`, so these form your `values` list, although their order must be reversed. The `aggfunc=\"sum\"` ensures you see totals. \n",
    "\n",
    "When you apply this plan to the various parameters, you get the code shown above. To finish off, you once more assign `0` to the `fill_value` parameter to replace the `<NA>` values with `0`. You don't need to worry about formatting `quantity`, because you are dealing with integers.\n",
    "\n",
    "If you need to apply proper currency formatting, you may need to add `pd.options.display.float_format = \"£{:,.2f}\".format` before the pivot table is displayed. If this was set earlier, it still gets applied here. "
   ]
  },
  {
   "cell_type": "markdown",
   "id": "bf0b203d-ca20-4135-9c69-35b3407ffa4e",
   "metadata": {},
   "source": [
    "**Possible Solution: More Advanced Aggregations**"
   ]
  },
  {
   "cell_type": "code",
   "execution_count": null,
   "id": "325d1f75-b672-460b-91c5-c5434f215427",
   "metadata": {},
   "outputs": [],
   "source": [
    "def find_unique(s):\n",
    "    return len(s.unique())\n",
    "\n",
    "pd.options.display.float_format = \"£{:,.2f}\".format\n",
    "\n",
    "sales_data.pivot_table(\n",
    "    values=[\"product_number\", \"sale_price\"],\n",
    "    index=\"sales_region\",\n",
    "    aggfunc={\"product_number\": find_unique, \"sale_price\": \"sum\"}\n",
    ")"
   ]
  },
  {
   "cell_type": "markdown",
   "id": "3fb9deaf-fcbc-4514-8557-6da62112ba5b",
   "metadata": {},
   "source": [
    "You can reuse your `find_unique()` function to determine the unique records once more. This time you want each `sales_region` to be displayed in a row of its own, so this gets assigned to the `index` parameter. \n",
    "\n",
    "Your pivot table needs to calculate based on both `product_number` and `sale_price`, so these are assigned to `values` as a list. To apply the different calculations to each of the `values`, you assign the dictionary `{\"product_number\": find_unique, \"sale_price\": \"sum\"}` to `aggfunc`. Note that each dictionary key must also appear in `values`.\n",
    "\n",
    "This time your `find_unique()` function will work out the number of unique product numbers, in other words, unique products, in each `sales_region` while the `sum` function will work out the totals."
   ]
  }
 ],
 "metadata": {
  "kernelspec": {
   "display_name": "Python 3 (ipykernel)",
   "language": "python",
   "name": "python3"
  },
  "language_info": {
   "codemirror_mode": {
    "name": "ipython",
    "version": 3
   },
   "file_extension": ".py",
   "mimetype": "text/x-python",
   "name": "python",
   "nbconvert_exporter": "python",
   "pygments_lexer": "ipython3",
   "version": "3.12.0"
  }
 },
 "nbformat": 4,
 "nbformat_minor": 5
}
