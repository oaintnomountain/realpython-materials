{
 "cells": [
  {
   "cell_type": "markdown",
   "id": "58f1cebe-9313-47be-91a7-a292c721fa70",
   "metadata": {},
   "source": [
    "**Installing the libraries.**"
   ]
  },
  {
   "cell_type": "code",
   "execution_count": null,
   "id": "043947ca-ebbd-4f3b-973b-02aa8064d407",
   "metadata": {},
   "outputs": [],
   "source": [
    "! pip install pandas\n",
    "! pip install pyarrow"
   ]
  },
  {
   "cell_type": "markdown",
   "id": "809281a1-0122-4332-b39e-7603e11d1f62",
   "metadata": {},
   "source": [
    "**Reading the data.**"
   ]
  },
  {
   "cell_type": "code",
   "execution_count": null,
   "id": "9d7828ae-7a2a-4beb-b92e-a47786e7eb2c",
   "metadata": {},
   "outputs": [],
   "source": [
    "import pandas as pd\n",
    "\n",
    "sales_data = (pd.read_csv(filepath_or_buffer=\"sales_data.csv\",\n",
    "                         parse_dates=[\"order_date\"], dayfirst=True\n",
    "                         )\n",
    "              .convert_dtypes(dtype_backend=\"pyarrow\")\n",
    "             )\n",
    "\n",
    "sales_data.head(2)"
   ]
  },
  {
   "cell_type": "code",
   "execution_count": null,
   "id": "239f06eb-db0b-45bb-9825-9192797bc55d",
   "metadata": {},
   "outputs": [],
   "source": [
    "sales_data.dtypes"
   ]
  },
  {
   "cell_type": "markdown",
   "id": "6ef0b664-c295-41d2-89c2-33086caee992",
   "metadata": {},
   "source": [
    "**Creating your first pivot table.**"
   ]
  },
  {
   "cell_type": "code",
   "execution_count": null,
   "id": "df0d98f9-8c4e-4027-82d3-eca1b3e549f8",
   "metadata": {},
   "outputs": [],
   "source": [
    "pd.options.display.float_format = \"£{:,.2f}\".format\n",
    "\n",
    "sales_data.pivot_table(\n",
    "    values=\"sale_price\", index=\"sales_region\", columns=\"order_type\",\n",
    "    aggfunc=\"sum\", margins=True, margins_name=\"Totals:\"\n",
    ")"
   ]
  },
  {
   "cell_type": "markdown",
   "id": "5e91d372-b055-4447-a8f8-fe07962867a6",
   "metadata": {},
   "source": [
    "**Including sub-sub columns within your pivot table**"
   ]
  },
  {
   "cell_type": "code",
   "execution_count": null,
   "id": "b888e088-1f2c-465a-a2bc-b8832c137e62",
   "metadata": {},
   "outputs": [],
   "source": [
    "import pandas as pd\n",
    "\n",
    "pd.options.display.float_format = \"£{:,.2f}\".format\n",
    "\n",
    "sales_data.pivot_table(\n",
    "    values=\"sale_price\", index=\"customer_state\",\n",
    "    columns=[\"customer_type\", \"order_type\"]\n",
    ")"
   ]
  },
  {
   "cell_type": "markdown",
   "id": "c19c30fc-3253-446a-b2e4-77dd4cc53c36",
   "metadata": {},
   "source": [
    "**Calculating multiple values in your pivot table.**"
   ]
  },
  {
   "cell_type": "code",
   "execution_count": null,
   "id": "a59d0173-87a2-4960-9ece-461820392363",
   "metadata": {},
   "outputs": [],
   "source": [
    "import pandas as pd\n",
    "\n",
    "pd.options.display.float_format = \"£{:,.2f}\".format\n",
    "\n",
    "sales_data.pivot_table(\n",
    "    index=[\"sales_region\", \"product_category\"],\n",
    "    values=[\"sale_price\", \"quantity\"],\n",
    "    aggfunc=\"sum\", fill_value=0\n",
    ")"
   ]
  },
  {
   "cell_type": "markdown",
   "id": "c323235b-3479-469e-b6cb-ee08615897d5",
   "metadata": {},
   "source": [
    "**Performing more advanced aggregations.**"
   ]
  },
  {
   "cell_type": "code",
   "execution_count": null,
   "id": "d2a2979b-694c-4880-aea7-9a1e8cf4573d",
   "metadata": {},
   "outputs": [],
   "source": [
    "pd.options.display.float_format = \"£{:,.2f}\".format\n",
    "\n",
    "sales_data.pivot_table(\n",
    "    values=[\"sale_price\"], index=[\"product_category\"],\n",
    "    columns=\"customer_type\", aggfunc=[\"max\", \"min\"]\n",
    ")"
   ]
  },
  {
   "cell_type": "code",
   "execution_count": null,
   "id": "45b1a6d7-1b72-458f-a25d-a3c1c7109a46",
   "metadata": {},
   "outputs": [],
   "source": [
    "pd.options.display.float_format = \"£{:,.2f}\".format\n",
    "\n",
    "sales_data.pivot_table(\n",
    "    values=[\"sale_price\", \"quantity\"],\n",
    "    index=[\"product_category\"],\n",
    "    columns=\"customer_type\",\n",
    "    aggfunc={\"sale_price\": \"mean\", \"quantity\": \"max\"}\n",
    ")"
   ]
  },
  {
   "cell_type": "code",
   "execution_count": null,
   "id": "93db010a-71c9-49d0-babb-ce99e0d8f801",
   "metadata": {},
   "outputs": [],
   "source": [
    "sales_data.pivot_table(\n",
    "    values=\"employee_id\",\n",
    "    index=\"sales_region\",\n",
    "    aggfunc=\"count\"\n",
    ")"
   ]
  },
  {
   "cell_type": "code",
   "execution_count": null,
   "id": "57f47424-fddf-4ab7-bff4-b3f973cb8565",
   "metadata": {},
   "outputs": [],
   "source": [
    "def find_unique(s):\n",
    "    return len(s.unique())\n",
    "\n",
    "sales_data.pivot_table(\n",
    "    values=\"employee_id\",\n",
    "    index=[\"sales_region\"],\n",
    "    aggfunc=find_unique\n",
    ")"
   ]
  },
  {
   "cell_type": "markdown",
   "id": "a17481c1-eacb-4c6f-9b6d-889ade86f62f",
   "metadata": {},
   "source": [
    "**Using `.groupby()` and `crosstab()` for Aggregation**"
   ]
  },
  {
   "cell_type": "code",
   "execution_count": null,
   "id": "2a483cf2-1bf0-48a6-b547-e537df15ceb9",
   "metadata": {},
   "outputs": [],
   "source": [
    "sales_data.pivot_table(\n",
    "    values=\"sale_price\",\n",
    "    index=\"product_category\",\n",
    "    aggfunc=[\"min\", \"mean\", \"max\", \"std\"]\n",
    ")"
   ]
  },
  {
   "cell_type": "code",
   "execution_count": null,
   "id": "b0031b51-22ab-4c64-bfd2-81de360db501",
   "metadata": {},
   "outputs": [],
   "source": [
    "(\n",
    "    sales_data\n",
    "    .groupby(\"product_category\")\n",
    "    .agg(\n",
    "        low_price=(\"sale_price\", \"min\"),\n",
    "         average_price=(\"sale_price\", \"mean\"),\n",
    "         high_price=(\"sale_price\", \"max\"),\n",
    "         standard_deviation=(\"sale_price\", \"std\")\n",
    "    )\n",
    ")"
   ]
  },
  {
   "cell_type": "code",
   "execution_count": null,
   "id": "ef30559b-8be1-4eee-b644-5cc66d12f112",
   "metadata": {},
   "outputs": [],
   "source": [
    "pd.crosstab(\n",
    "    index=sales_data.job_title,\n",
    "    columns=sales_data.sales_region,\n",
    "    margins=True,\n",
    "    margins_name=\"Totals:\"\n",
    ")"
   ]
  },
  {
   "cell_type": "code",
   "execution_count": null,
   "id": "6f47c7ac-e889-412e-98c9-8742c7b9d4e1",
   "metadata": {},
   "outputs": [],
   "source": [
    "(\n",
    "    pd.crosstab(\n",
    "    index=sales_data.job_title,\n",
    "    columns=sales_data.sales_region,\n",
    "    margins=True,\n",
    "    margins_name=\"Totals:\",\n",
    "    normalize=True,\n",
    "    )*100\n",
    ").map(\"{:.2f}%\".format)"
   ]
  }
 ],
 "metadata": {
  "kernelspec": {
   "display_name": "Python 3 (ipykernel)",
   "language": "python",
   "name": "python3"
  },
  "language_info": {
   "codemirror_mode": {
    "name": "ipython",
    "version": 3
   },
   "file_extension": ".py",
   "mimetype": "text/x-python",
   "name": "python",
   "nbconvert_exporter": "python",
   "pygments_lexer": "ipython3",
   "version": "3.12.0"
  }
 },
 "nbformat": 4,
 "nbformat_minor": 5
}
